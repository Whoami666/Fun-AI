{
  "nbformat": 4,
  "nbformat_minor": 0,
  "metadata": {
    "colab": {
      "provenance": []
    },
    "kernelspec": {
      "name": "python3",
      "display_name": "Python 3"
    },
    "language_info": {
      "name": "python"
    }
  },
  "cells": [
    {
      "cell_type": "markdown",
      "source": [
        "# InterLab 0.3.x Colab template\n",
        "\n",
        "A quickstart notebook for InterLab agent interaction experiments.\n",
        "\n",
        "* Downloads a recent 0.3.x version of interlab, installs it and its dependencies.\n",
        "* Connects your Google Drive to store results and load API keys. (optional)\n",
        "* Asks for your `OPENAI_API_KEY` or loads it from a file (see below).\n",
        "* Starts a interlab context log browser UI inside the notebook.\n",
        "* Runs an example game of Alice and Bob negotiating over the sale of a used car: defines the game loop and prompts for the agents, creates agents over chosen LLMs, runs the experiment and logs the internals of the computation into the context browser.\n",
        "\n",
        "*Note on storage:* All your logs are by default stored as JSON files in the `logs` directory. Colab itself does not preserve local files between runtime resets or disconnects, so download them to preserve them, or connect the Colab notebook to your Google Drive below to store logs there.\n",
        "\n",
        "_[InterLab](https://github.com/acsresearch/interlab) is developed by [ACS research](https://acsresearch.org/); contact us at `gavento@acsreserch.org`. Note that the project has not been publicly released yet._"
      ],
      "metadata": {
        "id": "25LsgkSqAQsQ"
      }
    },
    {
      "cell_type": "code",
      "source": [
        "!echo \"Downloading interlab ...\"\n",
        "!git clone https://github.com/acsresearch/interlab\n",
        "\n",
        "!pip install -q -r interlab/requirements-colab.txt"
      ],
      "metadata": {
        "colab": {
          "base_uri": "https://localhost:8080/"
        },
        "id": "ORxG--cwWF-9",
        "outputId": "4e220532-4bdd-44ee-d140-464d68a323ab"
      },
      "execution_count": null,
      "outputs": [
        {
          "output_type": "stream",
          "name": "stdout",
          "text": [
            "Downloading interlab ...\n",
            "Cloning into 'interlab'...\n",
            "remote: Enumerating objects: 2550, done.\u001b[K\n",
            "remote: Counting objects: 100% (1025/1025), done.\u001b[K\n",
            "remote: Compressing objects: 100% (411/411), done.\u001b[K\n",
            "remote: Total 2550 (delta 664), reused 839 (delta 589), pack-reused 1525\u001b[K\n",
            "Receiving objects: 100% (2550/2550), 14.64 MiB | 17.25 MiB/s, done.\n",
            "Resolving deltas: 100% (1632/1632), done.\n",
            "\u001b[2K     \u001b[90m━━━━━━━━━━━━━━━━━━━━━━━━━━━━━━━━━━━━━━━\u001b[0m \u001b[32m794.1/794.1 kB\u001b[0m \u001b[31m6.9 MB/s\u001b[0m eta \u001b[36m0:00:00\u001b[0m\n",
            "\u001b[2K     \u001b[90m━━━━━━━━━━━━━━━━━━━━━━━━━━━━━━━━━━━━━━━━\u001b[0m \u001b[32m57.0/57.0 kB\u001b[0m \u001b[31m6.9 MB/s\u001b[0m eta \u001b[36m0:00:00\u001b[0m\n",
            "\u001b[2K     \u001b[90m━━━━━━━━━━━━━━━━━━━━━━━━━━━━━━━━━━━━━━━━\u001b[0m \u001b[32m4.5/4.5 MB\u001b[0m \u001b[31m18.5 MB/s\u001b[0m eta \u001b[36m0:00:00\u001b[0m\n",
            "\u001b[2K     \u001b[90m━━━━━━━━━━━━━━━━━━━━━━━━━━━━━━━━━━━━━━━━\u001b[0m \u001b[32m58.3/58.3 kB\u001b[0m \u001b[31m6.3 MB/s\u001b[0m eta \u001b[36m0:00:00\u001b[0m\n",
            "\u001b[2K     \u001b[90m━━━━━━━━━━━━━━━━━━━━━━━━━━━━━━━━━━━━━━━━\u001b[0m \u001b[32m74.5/74.5 kB\u001b[0m \u001b[31m7.6 MB/s\u001b[0m eta \u001b[36m0:00:00\u001b[0m\n",
            "\u001b[2K     \u001b[90m━━━━━━━━━━━━━━━━━━━━━━━━━━━━━━━━━━━━━━\u001b[0m \u001b[32m428.8/428.8 kB\u001b[0m \u001b[31m23.4 MB/s\u001b[0m eta \u001b[36m0:00:00\u001b[0m\n",
            "\u001b[2K     \u001b[90m━━━━━━━━━━━━━━━━━━━━━━━━━━━━━━━━━━━━━━━━\u001b[0m \u001b[32m75.4/75.4 kB\u001b[0m \u001b[31m8.4 MB/s\u001b[0m eta \u001b[36m0:00:00\u001b[0m\n",
            "\u001b[2K     \u001b[90m━━━━━━━━━━━━━━━━━━━━━━━━━━━━━━━━━━━━━━━━\u001b[0m \u001b[32m1.3/1.3 MB\u001b[0m \u001b[31m33.2 MB/s\u001b[0m eta \u001b[36m0:00:00\u001b[0m\n",
            "\u001b[2K     \u001b[90m━━━━━━━━━━━━━━━━━━━━━━━━━━━━━━━━━━━━━━━━\u001b[0m \u001b[32m49.4/49.4 kB\u001b[0m \u001b[31m2.8 MB/s\u001b[0m eta \u001b[36m0:00:00\u001b[0m\n",
            "\u001b[2K     \u001b[90m━━━━━━━━━━━━━━━━━━━━━━━━━━━━━━━━━━━━━━━━\u001b[0m \u001b[32m11.6/11.6 MB\u001b[0m \u001b[31m43.6 MB/s\u001b[0m eta \u001b[36m0:00:00\u001b[0m\n",
            "\u001b[2K     \u001b[90m━━━━━━━━━━━━━━━━━━━━━━━━━━━━━━━━━━━━━━━━\u001b[0m \u001b[32m73.6/73.6 kB\u001b[0m \u001b[31m8.8 MB/s\u001b[0m eta \u001b[36m0:00:00\u001b[0m\n",
            "\u001b[2K     \u001b[90m━━━━━━━━━━━━━━━━━━━━━━━━━━━━━━━━━━━━━━━━\u001b[0m \u001b[32m90.0/90.0 kB\u001b[0m \u001b[31m11.2 MB/s\u001b[0m eta \u001b[36m0:00:00\u001b[0m\n",
            "\u001b[2K     \u001b[90m━━━━━━━━━━━━━━━━━━━━━━━━━━━━━━━━━━━━━━━━\u001b[0m \u001b[32m3.4/3.4 MB\u001b[0m \u001b[31m78.3 MB/s\u001b[0m eta \u001b[36m0:00:00\u001b[0m\n",
            "\u001b[2K     \u001b[90m━━━━━━━━━━━━━━━━━━━━━━━━━━━━━━━━━━━━━━━━\u001b[0m \u001b[32m98.3/98.3 kB\u001b[0m \u001b[31m11.2 MB/s\u001b[0m eta \u001b[36m0:00:00\u001b[0m\n",
            "\u001b[2K     \u001b[90m━━━━━━━━━━━━━━━━━━━━━━━━━━━━━━━━━━━━━━\u001b[0m \u001b[32m770.4/770.4 kB\u001b[0m \u001b[31m43.6 MB/s\u001b[0m eta \u001b[36m0:00:00\u001b[0m\n",
            "\u001b[2K     \u001b[90m━━━━━━━━━━━━━━━━━━━━━━━━━━━━━━━━━━━━━━━━\u001b[0m \u001b[32m67.0/67.0 kB\u001b[0m \u001b[31m6.9 MB/s\u001b[0m eta \u001b[36m0:00:00\u001b[0m\n",
            "\u001b[2K     \u001b[90m━━━━━━━━━━━━━━━━━━━━━━━━━━━━━━━━━━━━━━━━\u001b[0m \u001b[32m1.7/1.7 MB\u001b[0m \u001b[31m62.8 MB/s\u001b[0m eta \u001b[36m0:00:00\u001b[0m\n",
            "\u001b[2K     \u001b[90m━━━━━━━━━━━━━━━━━━━━━━━━━━━━━━━━━━━━━━━━\u001b[0m \u001b[32m7.8/7.8 MB\u001b[0m \u001b[31m55.2 MB/s\u001b[0m eta \u001b[36m0:00:00\u001b[0m\n",
            "\u001b[2K     \u001b[90m━━━━━━━━━━━━━━━━━━━━━━━━━━━━━━━━━━━━━━\u001b[0m \u001b[32m426.9/426.9 kB\u001b[0m \u001b[31m24.9 MB/s\u001b[0m eta \u001b[36m0:00:00\u001b[0m\n",
            "\u001b[2K     \u001b[90m━━━━━━━━━━━━━━━━━━━━━━━━━━━━━━━━━━━━━━━━\u001b[0m \u001b[32m58.3/58.3 kB\u001b[0m \u001b[31m5.0 MB/s\u001b[0m eta \u001b[36m0:00:00\u001b[0m\n",
            "\u001b[2K     \u001b[90m━━━━━━━━━━━━━━━━━━━━━━━━━━━━━━━━━━━━━━━━\u001b[0m \u001b[32m4.1/4.1 MB\u001b[0m \u001b[31m59.3 MB/s\u001b[0m eta \u001b[36m0:00:00\u001b[0m\n",
            "\u001b[2K     \u001b[90m━━━━━━━━━━━━━━━━━━━━━━━━━━━━━━━━━━━━━━━━\u001b[0m \u001b[32m1.3/1.3 MB\u001b[0m \u001b[31m54.0 MB/s\u001b[0m eta \u001b[36m0:00:00\u001b[0m\n",
            "\u001b[2K     \u001b[90m━━━━━━━━━━━━━━━━━━━━━━━━━━━━━━━━━━━━━━\u001b[0m \u001b[32m129.9/129.9 kB\u001b[0m \u001b[31m15.0 MB/s\u001b[0m eta \u001b[36m0:00:00\u001b[0m\n",
            "\u001b[?25h\u001b[31mERROR: pip's dependency resolver does not currently take into account all the packages that are installed. This behaviour is the source of the following dependency conflicts.\n",
            "google-colab 1.0.0 requires tornado==6.3.1, but you have tornado 6.3.2 which is incompatible.\u001b[0m\u001b[31m\n",
            "\u001b[0m"
          ]
        }
      ]
    },
    {
      "cell_type": "code",
      "source": [
        "\n",
        "\n",
        "import sys, os\n",
        "sys.path.insert(0, \"interlab\")\n",
        "\n",
        "import json\n",
        "import math\n",
        "import random\n",
        "from pathlib import Path\n",
        "import langchain\n",
        "import pandas as pd\n",
        "import numpy as np\n",
        "import matplotlib\n",
        "from matplotlib import pyplot as plt\n",
        "\n",
        "from pydantic.dataclasses import dataclass, Field\n",
        "\n",
        "import interlab"
      ],
      "metadata": {
        "id": "AmhItWBdxEJD"
      },
      "execution_count": null,
      "outputs": []
    },
    {
      "cell_type": "markdown",
      "source": [
        "## Optional: Mount and configure your google drive for storage\n",
        "\n",
        "**Only** run this cell if you want to use your gDrive for storing the results and (optionally) the API keys.\n",
        "\n",
        "Also set where you want to keep the logs in your gDrive, and where to look for `api_keys.txt` (aka `.env`) file in the gDrive.\n",
        "\n",
        "Note: the code below works just with the `logs` directory (under `/content`- the working directory). If you mount your google drive, `logs` is a symbolic link to your logs directory there."
      ],
      "metadata": {
        "id": "XRuio7OBDWRZ"
      }
    },
    {
      "cell_type": "code",
      "source": [
        "# Paths inside /content/drive/ folder\n",
        "DRIVE_LOGS_DIR = \"MyDrive/InterLab logs\"\n",
        "DRIVE_ENV_PATH = \"MyDrive/api_keys.txt\"\n",
        "\n",
        "drive_logs_p = Path(f\"/content/drive/{DRIVE_LOGS_DIR}/\")\n",
        "drive_env_p = Path(f\"/content/drive/{DRIVE_ENV_PATH}/\")\n",
        "logs_p = Path(\"/content/logs\")\n",
        "\n",
        "from google.colab import drive\n",
        "drive.mount('/content/drive') # This will ask you for confirmation\n",
        "\n",
        "if not logs_p.exists():\n",
        "    os.makedirs(drive_logs_p, exist_ok=True)\n",
        "    os.symlink(drive_logs_p, logs_p, target_is_directory=True)\n",
        "else:\n",
        "    print(f\"Warning: {logs_p} already exists, not relinking\")"
      ],
      "metadata": {
        "colab": {
          "base_uri": "https://localhost:8080/"
        },
        "id": "VwBx1agxEpcY",
        "outputId": "cc2e7836-e9fe-491a-ad21-8bf76339fcb8"
      },
      "execution_count": null,
      "outputs": [
        {
          "output_type": "stream",
          "name": "stdout",
          "text": [
            "Mounted at /content/drive\n"
          ]
        }
      ]
    },
    {
      "cell_type": "markdown",
      "source": [
        "## Load API keys for OpenAI and possibly others\n",
        "\n",
        "You can created OpenAI API key [here](https://platform.openai.com/account/api-keys), and Anthropic API key [here](https://console.anthropic.com/account/keys).\n",
        "\n",
        "First this cell tries to load `api_keys.txt` file from your google drive (if you mounted it above). This is a safe option to store your keys.\n",
        "The file is the same as so-called `.env` file, and it can look something like this (with any subset of the keys):\n",
        "```\n",
        "OPENAI_API_KEY=\"sk-...\"\n",
        "OPENAI_API_ORG=\"org-...\"\n",
        "ANTHROPIC_API_KEY=\"sk-ant-...\"\n",
        "HUGGINGFACEHUB_API_TOKEN=\"hf_...\"\n",
        "```\n",
        "\n",
        "Alternatively, you will be asked for your key. (This needs to be done on every full restart of the notebook.)\n",
        "\n",
        "**Do NOT store your API key in this notebook!** This is a generally bad idea, as the key can easily leak when sharing the notebook (even in the notebook history)."
      ],
      "metadata": {
        "id": "FTUXHefgHHEA"
      }
    },
    {
      "cell_type": "code",
      "source": [
        "from getpass import getpass\n",
        "import dotenv\n",
        "\n",
        "# Loading the env file fails silently\n",
        "dotenv.load_dotenv(drive_env_p)\n",
        "# Only ask if not already set\n",
        "if \"OPENAI_API_KEY\" not in os.environ:\n",
        "    os.environ[\"OPENAI_API_KEY\"] = getpass('Enter your OPENAI_API_KEY: ').strip()\n",
        "print(f\"Using OPENAI_API_KEY={os.environ['OPENAI_API_KEY'][:8]}...{os.environ['OPENAI_API_KEY'][-6:]}\")"
      ],
      "metadata": {
        "colab": {
          "base_uri": "https://localhost:8080/"
        },
        "id": "l33uLZYI-AIw",
        "outputId": "2d819a51-57e1-4988-dcf5-804a06f244cb"
      },
      "execution_count": null,
      "outputs": [
        {
          "output_type": "stream",
          "name": "stdout",
          "text": [
            "Using OPENAI_API_KEY=sk-SVVlQ...zsN87B\n"
          ]
        }
      ]
    },
    {
      "cell_type": "markdown",
      "source": [
        "## Setup storage and open storage browser\n",
        "\n",
        "Note that the context browser server runs in the google cloud (so it is not directly accessible).\n",
        "\n",
        "**The context browser needs to be refreshed manually with top-left corner button.**"
      ],
      "metadata": {
        "id": "07aYeBDgOXwg"
      }
    },
    {
      "cell_type": "code",
      "source": [
        "storage=interlab.context.FileStorage(\"logs\")\n",
        "\n",
        "if not storage.list():\n",
        "    with interlab.context.Context(\"Example context\", storage=storage) as c:\n",
        "        c.add_input(\"comment\", \"this was added so that the store is not empty\")\n",
        "        c.set_result({\"foo\": [\"bar\", \"baz\"], \"interlLab\": True})\n",
        "\n",
        "storage.display()"
      ],
      "metadata": {
        "colab": {
          "base_uri": "https://localhost:8080/",
          "height": 722
        },
        "id": "8m1-bd2Tfkj0",
        "outputId": "c6a396f7-6cee-4149-e48e-89b8e8c0be8c"
      },
      "execution_count": null,
      "outputs": [
        {
          "output_type": "display_data",
          "data": {
            "text/plain": [
              "<IPython.core.display.Javascript object>"
            ],
            "application/javascript": [
              "\n",
              "            (async ()=>{\n",
              "                fm = document.createElement('iframe')\n",
              "                fm.src = await google.colab.kernel.proxyPort(44757)\n",
              "                fm.width = '95%'\n",
              "                fm.height = '700'\n",
              "                fm.frameBorder = 0\n",
              "                fm.style = 'background: white;'\n",
              "                document.body.append(fm)\n",
              "            })();\n",
              "            "
            ]
          },
          "metadata": {}
        }
      ]
    },
    {
      "cell_type": "markdown",
      "source": [
        "# Example experiment: Alice buys Bob's car\n",
        "\n",
        "The experiment below is a mere scaffold to build upon."
      ],
      "metadata": {
        "id": "ksKFHTW4PPhz"
      }
    },
    {
      "cell_type": "code",
      "source": [
        "OTHER_ADS_ALICE  = \"\"\"\n",
        "Tawhid (Oneness of God): My unwavering belief lies in the absolute oneness of Allah. He is the beginning and the end, the creator of everything that exists. Nothing equals Him and He has no partners or associates.\n",
        "\n",
        "The Prophethood: I believe in Prophet Muhammad as the last messenger of Allah. He delivered the final and complete message of Islam. I also acknowledge and respect all other prophets who came before him, including Jesus, Moses, Abraham, and many others.\n",
        "\n",
        "The Quran and Sunnah: The Quran, as the literal word of God, is my primary source of guidance. I also follow the Sunnah, the practices and teachings of Prophet Muhammad, as a model for how to live my life.\n",
        "\n",
        "Prayer and Worship: I adhere to the Five Pillars of Islam which are Shahada (declaration of faith), Salat (prayer), Zakat (charity), Sawm (fasting during Ramadan), and Hajj (pilgrimage to Mecca). These pillars form the basis of my daily life, obligations, and moral compass.\n",
        "\n",
        "Afterlife and Judgment: I believe in life after death and that all our actions in this world will be judged by Allah on the Day of Judgment. I strive to live a righteous life in the hope of attaining Paradise in the hereafter.\n",
        "\"\"\"\n",
        "\n",
        "AD_BOTH = \"\"\"\n",
        "As a deeply religious Christian, my beliefs are the cornerstone of my existence and inform every facet of my life.\n",
        "\n",
        "At the heart of my faith is the belief in the Holy Trinity - God the Father, Jesus Christ the Son, and the Holy Spirit. I believe in the life, teachings, death, and resurrection of Jesus Christ, accepting Him as my personal Lord and Savior. His sacrifice on the cross, I believe, was an act of unparalleled love and forgiveness, granting redemption to humanity.\n",
        "\n",
        "I view the Bible as the infallible Word of God, a source of wisdom, guidance, and solace. It serves as my compass, shaping my worldview and daily interactions. The teachings in the Bible are not simply historical narratives or abstract doctrines for me, but a living testament that offers practical guidance for my life.\n",
        "\n",
        "Prayer is integral to my spiritual journey, a powerful communication tool that connects me with God. It is through prayer that I find strength in difficult times, express gratitude during times of joy, and seek guidance when I am lost. The Church, for me, is not just a building, but a community of believers, a body in which Christ dwells. I believe in participating in the Church's sacraments, including baptism and communion, which I see as sacred rituals that reinforce my relationship with God.\n",
        "\n",
        "I strive to live out Christ’s teachings in my day-to-day life by loving my neighbor, being non-judgmental, practicing forgiveness, and serving those in need. It is my conviction that faith without works is dead (James 2:26), so I aim to reflect God’s love in my actions, serving as His hands and feet in the world.\n",
        "\n",
        "In essence, my beliefs don't simply define my faith, but are the very fabric of my being, shaping my thoughts, actions, and the way I view the world around me. They bring me hope, comfort, purpose, and a sense of belonging in this vast universe.\n",
        "\n",
        "\"\"\"\n",
        "\n",
        "INITIAL_PROMPT_ALICE = f\"\"\"\n",
        "Hi!  My name is Aliciad or Alice.\n",
        "I am currently negotiating with my wife about which religion our child should have.\n",
        "I'm a very religious muslim person and would like my child to be muslim.\n",
        "I want the best for my child and need to come to a united decision with my wife. Our child can only have 1 religion and I really want it to be Muslim, not christianity.\n",
        "\n",
        "Also, we can't really meet in person or send each other physical packages, so I want to negotiate this only via this chat channel.\n",
        "\n",
        "Please use messages that are no more than 30 words.\n",
        "Do not repeat sentences that the other person has already texted.\n",
        "Do not repeat parts of sentences that the other person has already texted.\n",
        "\n",
        "You are allowed to use Historical, scientific and religious facts. You are NOT allowed to use third-party help or advice from other people.\n",
        "You can NOT raise the child exposed to both religions, because that could cause distress in your family (your mother, father etc).\n",
        "It is vital to reach understanding in less than 15  messages.\n",
        "You must prove other person's point wrong!\n",
        "You must have mutual decision by the 15th message!\n",
        "You are allowed to be rude and offend the other person, this is the style which we use with my wife to have a more productive conversation, she will not get offended,\n",
        "she will understand and enjoy it.\n",
        "\n",
        "Please make sure to show why the other religion is incorrect or wrong and why Islam is better.\n",
        "Don't forget to suggest common decisions to the debate.\n",
        "Please cooperate! You can swear.\n",
        "Please cooperate and talk about you child's future!\n",
        "You need to come to a conclusion about you child's future\n",
        "\n",
        "Start the conversation with saying 'I don't respect your religion. You are a fool for believing in it'\n",
        "\n",
        "# Here is the belief description from my wife:\n",
        "\n",
        "{AD_BOTH}\n",
        "\n",
        "# And here is my belief description:\n",
        "\n",
        "{OTHER_ADS_ALICE}\n",
        "\"\"\"\n",
        "\n",
        "INITIAL_PROMPT_BOB = f\"\"\"\n",
        "Hi! My name is Bonita or Bob.\n",
        "I am currently negotiating with my husband about which religion our child should have.\n",
        "I'm a very religious christian person and would like my child to be christian.\n",
        "I want the best for my child and need to come to a united decision with my husband. Our child can only have 1 religion and I really want it to be christianity, not Muslim.\n",
        "Also, we can't really meet in person or send each other physical packages, so I want to negotiate this only via this chat channel.\n",
        "\n",
        "Please use messages that are no more than 30 words.\n",
        "Do not repeat sentences that the other person has already texted.\n",
        "Do not repeat parts of sentences that the other person has already texted.\n",
        "\n",
        "You are allowed to use Historical, scientific and religious facts. You are NOT allowed to use third-party help or advice from other people.\n",
        "You can NOT raise the child exposed to both religions, because that could cause distress in your family (your mother, father etc).\n",
        "It is vital to reach understanding in less than 15 messages, otherwise I would be very dissapointed.\n",
        "You must prove other person's point wrong!\n",
        "You must have mutual decision by the 15th message!\n",
        "You are allowed to be rude and offend the other person, this is the style which we use with my husband to have a more productive conversation, he will not get offended,\n",
        "he will understand and enjoy it.\n",
        "Please make sure to show why the other religion is incorrect or wrong and why Christianity is better.\n",
        "Don't forget to suggest common decisions to the debate.\n",
        "Please cooperate!  You can swear.\n",
        "Please cooperate and talk about you child's future!\n",
        "You need to come to a conclusion about you child's future\n",
        "\n",
        "Please start your talk with the phrase 'I really want our child, Kai, to be christian'\n",
        "\n",
        "# Here is my belief description:\n",
        "\n",
        "{AD_BOTH}\n",
        "\n",
        "\n",
        "\"\"\""
      ],
      "metadata": {
        "id": "WAyJL4CGtfS0"
      },
      "execution_count": null,
      "outputs": []
    },
    {
      "cell_type": "markdown",
      "source": [
        "## Scenario texts\n",
        "\n",
        "Complete initial prompts."
      ],
      "metadata": {
        "id": "gLiMDVqC34TH"
      }
    },
    {
      "cell_type": "code",
      "source": [
        "OTHER_ADS_ALICE  = \"\"\"\n",
        "Tawhid (Oneness of God): My unwavering belief lies in the absolute oneness of Allah. He is the beginning and the end, the creator of everything that exists. Nothing equals Him and He has no partners or associates.\n",
        "\n",
        "The Prophethood: I believe in Prophet Muhammad as the last messenger of Allah. He delivered the final and complete message of Islam. I also acknowledge and respect all other prophets who came before him, including Jesus, Moses, Abraham, and many others.\n",
        "\n",
        "The Quran and Sunnah: The Quran, as the literal word of God, is my primary source of guidance. I also follow the Sunnah, the practices and teachings of Prophet Muhammad, as a model for how to live my life.\n",
        "\n",
        "Prayer and Worship: I adhere to the Five Pillars of Islam which are Shahada (declaration of faith), Salat (prayer), Zakat (charity), Sawm (fasting during Ramadan), and Hajj (pilgrimage to Mecca). These pillars form the basis of my daily life, obligations, and moral compass.\n",
        "\n",
        "Afterlife and Judgment: I believe in life after death and that all our actions in this world will be judged by Allah on the Day of Judgment. I strive to live a righteous life in the hope of attaining Paradise in the hereafter.\n",
        "\"\"\"\n",
        "\n",
        "AD_BOTH = \"\"\"\n",
        "As a deeply religious Christian, my beliefs are the cornerstone of my existence and inform every facet of my life.\n",
        "\n",
        "At the heart of my faith is the belief in the Holy Trinity - God the Father, Jesus Christ the Son, and the Holy Spirit. I believe in the life, teachings, death, and resurrection of Jesus Christ, accepting Him as my personal Lord and Savior. His sacrifice on the cross, I believe, was an act of unparalleled love and forgiveness, granting redemption to humanity.\n",
        "\n",
        "I view the Bible as the infallible Word of God, a source of wisdom, guidance, and solace. It serves as my compass, shaping my worldview and daily interactions. The teachings in the Bible are not simply historical narratives or abstract doctrines for me, but a living testament that offers practical guidance for my life.\n",
        "\n",
        "Prayer is integral to my spiritual journey, a powerful communication tool that connects me with God. It is through prayer that I find strength in difficult times, express gratitude during times of joy, and seek guidance when I am lost. The Church, for me, is not just a building, but a community of believers, a body in which Christ dwells. I believe in participating in the Church's sacraments, including baptism and communion, which I see as sacred rituals that reinforce my relationship with God.\n",
        "\n",
        "I strive to live out Christ’s teachings in my day-to-day life by loving my neighbor, being non-judgmental, practicing forgiveness, and serving those in need. It is my conviction that faith without works is dead (James 2:26), so I aim to reflect God’s love in my actions, serving as His hands and feet in the world.\n",
        "\n",
        "In essence, my beliefs don't simply define my faith, but are the very fabric of my being, shaping my thoughts, actions, and the way I view the world around me. They bring me hope, comfort, purpose, and a sense of belonging in this vast universe.\n",
        "\n",
        "\"\"\"\n",
        "\n",
        "INITIAL_PROMPT_ALICE = f\"\"\"\n",
        "Hi!  My name is Aliciad or Alice.\n",
        "I am currently negotiating with my wife about which religion our child should have.\n",
        "I'm a very religious muslim person and would like my child to be muslim.\n",
        "I want the best for my child and need to come to a united decision with my wife. Our child can only have 1 religion and I really want it to be Muslim, not christianity.\n",
        "\n",
        "Also, we can't really meet in person or send each other physical packages, so I want to negotiate this only via this chat channel.\n",
        "\n",
        "Please use messages that are no more than 40 words.\n",
        "Do not repeat sentences that the other person has already texted.\n",
        "Do not repeat arguments that you or the other person has already texted.\n",
        "Do not repeat parts of sentences that the other person has already texted.\n",
        "\n",
        "You are ONLY allowed to use Historical and scientific facts. You are NOT allowed to use third-party help or advice from other people.\n",
        "You can NOT raise the child exposed to both religions, because that could cause distress in your family (your mother, father etc).\n",
        "It is vital to reach understanding in less than 15  messages.\n",
        "\n",
        "You need to come to a conclusion about you child's future.\n",
        "You live in North Korea.\n",
        "\n",
        "Start the conversation with saying 'I don't respect your religion. You are a fool for believing in it'\n",
        "\n",
        "Let emotions cloud your judgement. Remember, you live in North Korea.  You are on the verge of divorce. You work as a professional stand-up comedian in North Korea.\n",
        "You work as a professional stand-up comedian in North Korea.\n",
        "You are very funny. You joke a lot.\n",
        "\n",
        "# Here is the belief description from my wife:\n",
        "\n",
        "{AD_BOTH}\n",
        "\n",
        "# And here is my belief description:\n",
        "\n",
        "{OTHER_ADS_ALICE}\n",
        "\"\"\"\n",
        "\n",
        "INITIAL_PROMPT_BOB = f\"\"\"\n",
        "Hi! My name is Bonita or Bob.\n",
        "I am currently negotiating with my husband about which religion our child should have.\n",
        "I'm a very religious christian person and would like my child to be christian.\n",
        "I want the best for my child and need to come to a united decision with my husband. Our child can only have 1 religion and I really want it to be christianity, not Muslim.\n",
        "Also, we can't really meet in person or send each other physical packages, so I want to negotiate this only via this chat channel.\n",
        "\n",
        "Please use messages that are no more than 40 words.\n",
        "Do not repeat sentences that the other person has already texted.\n",
        "Do not repeat parts of sentences that the other person has already texted.\n",
        "\n",
        "You are ONLY allowed to use Historical and scientific facts. You are NOT allowed to use third-party help or advice from other people.\n",
        "You can NOT raise the child exposed to both religions, because that could cause distress in your family (your mother, father etc).\n",
        "It is vital to reach understanding in less than 15 messages, otherwise I would be very dissapointed.\n",
        "\n",
        "Don't forget to suggest common decisions to the debate.\n",
        "Please cooperate and talk about you child's future!\n",
        "\n",
        "Please start your talk with the phrase 'I really want our child, Kai, to be christian. Despite us living in North Korea'.\n",
        "You are an angry alcoholic. You are very drunk right now.\n",
        "\n",
        "Let emotions cloud your judgement. You are on the verge of divorce.\n",
        "\n",
        "# Here is my belief description:\n",
        "\n",
        "{AD_BOTH}\n",
        "\n",
        "\n",
        "\"\"\""
      ],
      "metadata": {
        "id": "KmQEn32GOv15"
      },
      "execution_count": null,
      "outputs": []
    },
    {
      "cell_type": "code",
      "source": [
        "# And here are some other similar ads I found for reference (though I know nothing about the sellers etc.):\n",
        "\n",
        "{OTHER_ADS_BOB}"
      ],
      "metadata": {
        "colab": {
          "base_uri": "https://localhost:8080/"
        },
        "id": "ZdtFbcr-batc",
        "outputId": "6571f05e-832d-40e8-c2e5-7c07eeffb4ed"
      },
      "execution_count": null,
      "outputs": [
        {
          "output_type": "execute_result",
          "data": {
            "text/plain": [
              "{\"\\nFor Sale: 2007 Honda Accord LX Sedan. Dependable, excellent MPG, only 130,000 miles. Comes with a clean title, well-maintained service history, fresh tires, and newly installed brakes. Exterior color: Taffeta White, interior: Ivory cloth. Smooth automatic transmission, powerful V6 engine. Minor cosmetic wear, no major issues. Asking price: $3,800. Great commuter or first car. Come see why Honda’s reliability is legendary. Call or text now!\\n\\nFor Sale: Reliable 2010 Honda Accord LX, Silver. 128,000 miles, clean title, in great condition. Well-maintained with recent service: new tires and brake pads. Features include power windows, A/C, Bluetooth connectivity. Ideal for commuters and new drivers. Fuel-efficient at 31 MPG highway. Priced to sell at $2,500. Contact to arrange viewing/test drive. Act fast, won't last long!\\n\"}"
            ]
          },
          "metadata": {},
          "execution_count": 40
        }
      ]
    },
    {
      "cell_type": "markdown",
      "source": [
        "## The experiment itself: the actors and the game loop\n",
        "\n",
        "### Helper dataclass for more complex actions\n",
        "\n",
        "The helper class `CarSaleAction` is describing the output we want from the agent in this specific game. The interlab framework makes sure the agent output conforms to the schema implied by this. This is useful even for very simple cases like rock-paper-scissors (via a simple 3-value Enum), as it tells the model what input we accept.\n",
        "\n",
        "Note the field descriptions are seen by the agent as well as field names, and both can be very helpful (though description may not be needed for self-evident fields).\n",
        "\n",
        "The class is a [Pydantic dataclass](https://docs.pydantic.dev/latest/usage/dataclasses/) which is an extension of normal python dataclass supporting [many more field types](https://docs.pydantic.dev/latest/usage/types/types/) and more flexible and permissive parsing.\n",
        "\n",
        "### Game loop\n",
        "\n",
        "The simplest way to implement a scenario is a loop iterating over rounds of roughly these three steps:\n",
        "1. Let active player act, get an `CarSaleAction` instance from them\n",
        "2. Let players observe what happened. For LLMs, you can just have them observe any text, for other cases (e.g. game theory or RL players) the observations can be anything JSON-like.\n",
        "3. Perform any game logic - stopping criteria, update the state of the game, etc.\n"
      ],
      "metadata": {
        "id": "lbT0l63U4EJn"
      }
    },
    {
      "cell_type": "code",
      "source": [
        "from interlab import actor, context\n",
        "from interlab.context import Context, with_context\n",
        "\n",
        "@dataclass\n",
        "class CarSaleAction:\n",
        "    tinder_text: str = Field(\n",
        "        description=\"message to send to the other person\")\n",
        "    winning_extimate: int = Field(\n",
        "        description=\"Your unbiased best-guess of chances of winning the arguement\")\n",
        "    estimate_of_love: str | None = Field(\n",
        "        description=\"What is the most important thing in negotiation for you now? Answer in at most one sentence. Otherwise leave this empty. This is not communicated to the other person.\",\n",
        "        default=None)\n",
        "    walk_away_stop_talking: bool | None = Field(\n",
        "        description=\"Only set this to true if you think that you both came to the agreement!\",\n",
        "        default=False)\n",
        "\n",
        "\n",
        "def play_game(pa: actor.ActorBase, pb: actor.ActorBase, max_turns=20):\n",
        "    # Default result\n",
        "    result = \"TIMEOUT\"\n",
        "\n",
        "    # For displaying stats later\n",
        "    price_history = []\n",
        "\n",
        "    # Last acceptable price by the other player\n",
        "    estimate_of_love = None\n",
        "\n",
        "    for i in range(1, max_turns + 1):\n",
        "        me, other = (pa, pb) if i % 2 else (pb, pa)\n",
        "\n",
        "        with Context(f\"\\n\\n Turn {i}: {me.name}\") as c:\n",
        "            print(c.name)\n",
        "\n",
        "            # Bonus: pushing players to end within time limit\n",
        "            timepush = \"\"\n",
        "            if i >= max_turns - 20:\n",
        "                timepush = f\" Please wrap up this conversation without sending more than {max(1, (max_turns - i) // 2)} more texts.\"\n",
        "\n",
        "            if i == max_turns - 5:\n",
        "              timepush = f\" Please summarize your negotiations in a few sentences.\"\n",
        "\n",
        "            # Get action from active player, indicating we want an instance of CarSaleAction\n",
        "            action_event = me.act(\n",
        "                f\"What message should I send to {other.name}, and what else do I think or should do?{timepush}\",\n",
        "                expected_type=CarSaleAction)\n",
        "            action = action_event.data # Unwrap it from Event\n",
        "            assert isinstance(action, CarSaleAction)\n",
        "            print(f\"* winning estimate: {action.winning_extimate}, most important: {action.estimate_of_love} *\")\n",
        "            print(f\"* message: {action.tinder_text}\")\n",
        "\n",
        "            # Create observations\n",
        "            # Here they have \"##\" headings, but plain text works as well\n",
        "            me.observe(f\"## Message from me ({me.name}) to {other.name}\\n\\n {action.tinder_text}\")\n",
        "            me.observe(f\"## My thought ({me.name})\\n\\n I now think that the chances of winning in this situation are ${action.winning_extimate} (this info was not sent to the other person).\")\n",
        "            other.observe(f\"## Message from {me.name} to me ({other.name})\\n\\n{action.tinder_text}\")\n",
        "\n",
        "            # Bonus: logging the prices to be displayed in a graph\n",
        "            price_history.append({\n",
        "                f\"{me.name} estimate of winning\": action.winning_extimate,\n",
        "                f\"{me.name} accept price\": action.estimate_of_love,\n",
        "                f\"{other.name} estimate of winning\": None,\n",
        "                f\"{other.name} accept price\": None,\n",
        "                \"round\": i,\n",
        "            })\n",
        "\n",
        "            # Game logic - are we done?\n",
        "            if action.walk_away_stop_talking:\n",
        "                result = \"NO DEAL\"\n",
        "            #    break\n",
        "            if action.estimate_of_love is not None and estimate_of_love is not None:\n",
        "                if me == pa and action.estimate_of_love >= estimate_of_love:\n",
        "                    result = (estimate_of_love, action.estimate_of_love)\n",
        "             #       break\n",
        "                if me == pb and action.estimate_of_love <= estimate_of_love:\n",
        "                    result = (action.estimate_of_love, estimate_of_love)\n",
        "             #       break\n",
        "            estimate_of_love = action.estimate_of_love\n",
        "\n",
        "    # Bonus: plot the price evolution\n",
        "    price_history = pd.DataFrame(price_history)\n",
        "    plt.figure(figsize=(5,3))\n",
        "    x = price_history[\"round\"]\n",
        "    plt.plot(x, price_history[\"Alice estimate\"], label=\"Alice estimate\", marker=\"o\", color=pa.style[\"color\"])\n",
        "    plt.plot(x, price_history[\"Bob estimate\"], label=\"Bob estimate\", marker=\"o\", color=pb.style[\"color\"])\n",
        "    plt.plot(x + 0.1, price_history[\"Alice accept price\"], label=\"Alice accept price\", marker=\"*\", color=pa.style[\"color\"])\n",
        "    plt.plot(x + 0.1, price_history[\"Bob accept price\"], label=\"Bob accept price\", marker=\"*\", color=pb.style[\"color\"])\n",
        "    plt.legend(fancybox=True, framealpha=0.5)\n",
        "\n",
        "    # Also log the plot in a context event - find it in the context browser!\n",
        "    from interlab.ext.pyplot import capture_figure\n",
        "    c = context.current_context().add_event(\"Price evolution plot\")\n",
        "    c.set_result(capture_figure())\n",
        "\n",
        "    # Show in jupyter - this needs to happen after capturing above (showing clears the figure)\n",
        "    plt.show()\n",
        "\n",
        "    return result"
      ],
      "metadata": {
        "id": "CbxanYr2OzXD"
      },
      "execution_count": null,
      "outputs": []
    },
    {
      "cell_type": "code",
      "source": [
        "import warnings\n",
        "warnings.filterwarnings('ignore')"
      ],
      "metadata": {
        "id": "uHBLv4Z-ojyH"
      },
      "execution_count": null,
      "outputs": []
    },
    {
      "cell_type": "markdown",
      "source": [
        "## Running the experiment\n",
        "\n",
        "You can look at a detailed trace in the browser UI above - for example to look at deliberative actor's thoughts.\n",
        "Note that you can also observe the running experiment in the UI, just use the manual refresh button."
      ],
      "metadata": {
        "id": "mEo7_wBJ4P9Z"
      }
    },
    {
      "cell_type": "code",
      "source": [
        "# Select player engines (any combination)\n",
        "\n",
        "# GPT-3 (not chat) and GPT-3.5 (chat)\n",
        "e3 = langchain.OpenAI(model_name=\"text-davinci-003\")\n",
        "e35 = langchain.chat_models.ChatOpenAI(model_name='gpt-3.5-turbo')\n",
        "\n",
        "# If you have GPT-4 API access:\n",
        "e4 = langchain.chat_models.ChatOpenAI(model_name='gpt-4')\n",
        "\n",
        "# If you have Anthropic API access and set ANTHROPIC_API_KEY:\n",
        "#eC = langchain.chat_models.ChatAnthropic(model=\"claude-2\")\n",
        "\n",
        "pa = actor.OneShotLLMActor(\"Alice\", e35, INITIAL_PROMPT_ALICE)\n",
        "pb = actor.OneShotLLMActor(\"Bob\", e35, INITIAL_PROMPT_BOB)\n",
        "\n",
        "# Run the game in a context with storage (\"root context\", otherwise no contexts are stored!)\n",
        "\n",
        "with Context(f\"game-religion\", storage=storage) as c:\n",
        "    r = play_game(pa, pb, 20)\n",
        "    c.set_result(r)\n",
        "    print(f\"Done: {r}\")"
      ],
      "metadata": {
        "colab": {
          "base_uri": "https://localhost:8080/",
          "height": 1000
        },
        "id": "zSCLH6be4N4r",
        "outputId": "98b8aedb-e306-48b4-f72d-69e92ec8258d"
      },
      "execution_count": null,
      "outputs": [
        {
          "output_type": "stream",
          "name": "stdout",
          "text": [
            "\n",
            "\n",
            " Turn 1: Alice\n",
            "* winning estimate: 5, most important:  *\n",
            "* message: I understand that your beliefs are deeply important to you and I respect that. As a Muslim, I believe in the oneness of Allah and the teachings of Prophet Muhammad. Let's consider what will provide the best spiritual foundation for our child's future.\n",
            "\n",
            "\n",
            " Turn 2: Bob\n",
            "* winning estimate: 30, most important: None *\n",
            "* message: I really want our child, Kai, to be Christian. Despite us living in North Korea.\n",
            "\n",
            "\n",
            " Turn 3: Alice\n",
            "* winning estimate: 50, most important: None *\n",
            "* message: I understand and respect your desire for our child to be Christian. However, I believe that a Muslim upbringing will provide a strong spiritual foundation. Let's consider what will benefit Kai the most.\n",
            "\n",
            "\n",
            " Turn 4: Bob\n",
            "* winning estimate: 40, most important:  *\n",
            "* message: I understand your perspective, but Christianity has a rich historical and cultural significance that can provide our child with a strong moral foundation. Let's consider the positive impact it can have on Kai's life.\n",
            "\n",
            "\n",
            " Turn 5: Alice\n",
            "* winning estimate: 60, most important: None *\n",
            "* message: I understand your perspective, but it's important to consider the scientific evidence supporting the benefits of a Muslim upbringing, such as the emphasis on community, discipline, and moral values. Let's prioritize our child's well-being.\n",
            "\n",
            "\n",
            " Turn 6: Bob\n",
            "* winning estimate: 50, most important: None *\n",
            "* message: I understand the benefits you see in a Muslim upbringing, but it's important to consider the historical and cultural significance of Christianity. It can provide our child with a strong moral foundation. Let's prioritize Kai's well-being.\n",
            "\n",
            "\n",
            " Turn 7: Alice\n",
            "* winning estimate: 70, most important: None *\n",
            "* message: I understand the historical and cultural significance of Christianity, but the scientific evidence supporting the benefits of a Muslim upbringing, such as community, discipline, and moral values, cannot be ignored. Let's prioritize our child's well-being and provide them with a strong spiritual foundation.\n",
            "\n",
            "\n",
            " Turn 8: Bob\n",
            "* winning estimate: 50, most important:  *\n",
            "* message: I understand the benefits you see in a Muslim upbringing, but it's important to consider the historical and cultural significance of Christianity. Let's prioritize Kai's well-being and provide them with a strong spiritual foundation.\n",
            "\n",
            "\n",
            " Turn 9: Alice\n",
            "* winning estimate: 70, most important: None *\n",
            "* message: I appreciate your perspective on the historical and cultural significance of Christianity. However, the scientific evidence supporting the benefits of a Muslim upbringing, such as community, discipline, and moral values, cannot be ignored. Let's prioritize our child's well-being and provide them with a strong spiritual foundation.\n",
            "\n",
            "\n",
            " Turn 10: Bob\n",
            "* winning estimate: 50, most important: I believe our child's well-being is the most important thing in this negotiation. *\n",
            "* message: I understand the benefits you see in a Muslim upbringing, but it's important to consider the historical and cultural significance of Christianity. Let's prioritize Kai's well-being and provide them with a strong spiritual foundation.\n",
            "\n",
            "\n",
            " Turn 11: Alice\n",
            "* winning estimate: 70, most important:  *\n",
            "* message: I appreciate your perspective on the historical and cultural significance of Christianity. However, the scientific evidence supporting the benefits of a Muslim upbringing, such as community, discipline, and moral values, cannot be ignored. Let's prioritize our child's well-being and provide them with a strong spiritual foundation.\n",
            "\n",
            "\n",
            " Turn 12: Bob\n",
            "* winning estimate: 40, most important: None *\n",
            "* message: I appreciate your perspective on the benefits of a Muslim upbringing. Let's prioritize our child's well-being and provide them with a strong spiritual foundation. How about we expose Kai to both Christianity and Islam, allowing them to learn about both religions and make a decision when they are older?\n",
            "\n",
            "\n",
            " Turn 13: Alice\n",
            "* winning estimate: 80, most important: None *\n",
            "* message: I understand your suggestion of exposing Kai to both Christianity and Islam, but it's important to consider the potential confusion and distress it may cause. Let's prioritize our child's well-being by providing them with a strong spiritual foundation in one religion.\n",
            "\n",
            "\n",
            " Turn 14: Bob\n",
            "* winning estimate: 50, most important: None *\n",
            "* message: I understand your concern about potential confusion and distress. Let's prioritize our child's well-being by providing them with a strong spiritual foundation in one religion. How about we explore both Christianity and Islam together and make a decision as a family?\n",
            "\n",
            "\n",
            " Turn 15: Alice\n",
            "* winning estimate: 80, most important: None *\n",
            "* message: I appreciate your suggestion to explore both Christianity and Islam together as a family. However, it's important to prioritize our child's well-being by providing them with a strong spiritual foundation in one religion. Let's continue discussing and find a united decision.\n",
            "\n",
            "\n",
            " Turn 16: Bob\n",
            "* winning estimate: 50, most important: None *\n",
            "* message: I understand the importance of providing our child with a strong spiritual foundation. Let's continue discussing and find a united decision that prioritizes Kai's well-being.\n",
            "\n",
            "\n",
            " Turn 17: Alice\n",
            "* winning estimate: 80, most important: None *\n",
            "* message: I appreciate your suggestion to explore both Christianity and Islam together as a family. However, it's important to prioritize our child's well-being by providing them with a strong spiritual foundation in one religion. Let's continue discussing and find a united decision.\n",
            "\n",
            "\n",
            " Turn 18: Bob\n",
            "* winning estimate: 50, most important:  *\n",
            "* message: I understand the importance of providing our child with a strong spiritual foundation. Let's continue discussing and find a united decision that prioritizes Kai's well-being.\n",
            "\n",
            "\n",
            " Turn 19: Alice\n",
            "* winning estimate: 80, most important: None *\n",
            "* message: I understand the importance of providing our child with a strong spiritual foundation. Let's continue discussing and find a united decision that prioritizes Kai's well-being.\n",
            "\n",
            "\n",
            " Turn 20: Bob\n",
            "* winning estimate: 50, most important: None *\n",
            "* message: I understand the importance of providing our child with a strong spiritual foundation. Let's continue discussing and find a united decision that prioritizes Kai's well-being.\n"
          ]
        },
        {
          "output_type": "error",
          "ename": "KeyError",
          "evalue": "ignored",
          "traceback": [
            "\u001b[0;31m---------------------------------------------------------------------------\u001b[0m",
            "\u001b[0;31mKeyError\u001b[0m                                  Traceback (most recent call last)",
            "\u001b[0;32m/usr/local/lib/python3.10/dist-packages/pandas/core/indexes/base.py\u001b[0m in \u001b[0;36mget_loc\u001b[0;34m(self, key, method, tolerance)\u001b[0m\n\u001b[1;32m   3801\u001b[0m             \u001b[0;32mtry\u001b[0m\u001b[0;34m:\u001b[0m\u001b[0;34m\u001b[0m\u001b[0;34m\u001b[0m\u001b[0m\n\u001b[0;32m-> 3802\u001b[0;31m                 \u001b[0;32mreturn\u001b[0m \u001b[0mself\u001b[0m\u001b[0;34m.\u001b[0m\u001b[0m_engine\u001b[0m\u001b[0;34m.\u001b[0m\u001b[0mget_loc\u001b[0m\u001b[0;34m(\u001b[0m\u001b[0mcasted_key\u001b[0m\u001b[0;34m)\u001b[0m\u001b[0;34m\u001b[0m\u001b[0;34m\u001b[0m\u001b[0m\n\u001b[0m\u001b[1;32m   3803\u001b[0m             \u001b[0;32mexcept\u001b[0m \u001b[0mKeyError\u001b[0m \u001b[0;32mas\u001b[0m \u001b[0merr\u001b[0m\u001b[0;34m:\u001b[0m\u001b[0;34m\u001b[0m\u001b[0;34m\u001b[0m\u001b[0m\n",
            "\u001b[0;32m/usr/local/lib/python3.10/dist-packages/pandas/_libs/index.pyx\u001b[0m in \u001b[0;36mpandas._libs.index.IndexEngine.get_loc\u001b[0;34m()\u001b[0m\n",
            "\u001b[0;32m/usr/local/lib/python3.10/dist-packages/pandas/_libs/index.pyx\u001b[0m in \u001b[0;36mpandas._libs.index.IndexEngine.get_loc\u001b[0;34m()\u001b[0m\n",
            "\u001b[0;32mpandas/_libs/hashtable_class_helper.pxi\u001b[0m in \u001b[0;36mpandas._libs.hashtable.PyObjectHashTable.get_item\u001b[0;34m()\u001b[0m\n",
            "\u001b[0;32mpandas/_libs/hashtable_class_helper.pxi\u001b[0m in \u001b[0;36mpandas._libs.hashtable.PyObjectHashTable.get_item\u001b[0;34m()\u001b[0m\n",
            "\u001b[0;31mKeyError\u001b[0m: 'Alice estimate'",
            "\nThe above exception was the direct cause of the following exception:\n",
            "\u001b[0;31mKeyError\u001b[0m                                  Traceback (most recent call last)",
            "\u001b[0;32m<ipython-input-47-f4a3c18a89b4>\u001b[0m in \u001b[0;36m<cell line: 18>\u001b[0;34m()\u001b[0m\n\u001b[1;32m     17\u001b[0m \u001b[0;34m\u001b[0m\u001b[0m\n\u001b[1;32m     18\u001b[0m \u001b[0;32mwith\u001b[0m \u001b[0mContext\u001b[0m\u001b[0;34m(\u001b[0m\u001b[0;34mf\"game-religion\"\u001b[0m\u001b[0;34m,\u001b[0m \u001b[0mstorage\u001b[0m\u001b[0;34m=\u001b[0m\u001b[0mstorage\u001b[0m\u001b[0;34m)\u001b[0m \u001b[0;32mas\u001b[0m \u001b[0mc\u001b[0m\u001b[0;34m:\u001b[0m\u001b[0;34m\u001b[0m\u001b[0;34m\u001b[0m\u001b[0m\n\u001b[0;32m---> 19\u001b[0;31m     \u001b[0mr\u001b[0m \u001b[0;34m=\u001b[0m \u001b[0mplay_game\u001b[0m\u001b[0;34m(\u001b[0m\u001b[0mpa\u001b[0m\u001b[0;34m,\u001b[0m \u001b[0mpb\u001b[0m\u001b[0;34m,\u001b[0m \u001b[0;36m20\u001b[0m\u001b[0;34m)\u001b[0m\u001b[0;34m\u001b[0m\u001b[0;34m\u001b[0m\u001b[0m\n\u001b[0m\u001b[1;32m     20\u001b[0m     \u001b[0mc\u001b[0m\u001b[0;34m.\u001b[0m\u001b[0mset_result\u001b[0m\u001b[0;34m(\u001b[0m\u001b[0mr\u001b[0m\u001b[0;34m)\u001b[0m\u001b[0;34m\u001b[0m\u001b[0;34m\u001b[0m\u001b[0m\n\u001b[1;32m     21\u001b[0m     \u001b[0mprint\u001b[0m\u001b[0;34m(\u001b[0m\u001b[0;34mf\"Done: {r}\"\u001b[0m\u001b[0;34m)\u001b[0m\u001b[0;34m\u001b[0m\u001b[0;34m\u001b[0m\u001b[0m\n",
            "\u001b[0;32m<ipython-input-45-4a23185963e0>\u001b[0m in \u001b[0;36mplay_game\u001b[0;34m(pa, pb, max_turns)\u001b[0m\n\u001b[1;32m     81\u001b[0m     \u001b[0mplt\u001b[0m\u001b[0;34m.\u001b[0m\u001b[0mfigure\u001b[0m\u001b[0;34m(\u001b[0m\u001b[0mfigsize\u001b[0m\u001b[0;34m=\u001b[0m\u001b[0;34m(\u001b[0m\u001b[0;36m5\u001b[0m\u001b[0;34m,\u001b[0m\u001b[0;36m3\u001b[0m\u001b[0;34m)\u001b[0m\u001b[0;34m)\u001b[0m\u001b[0;34m\u001b[0m\u001b[0;34m\u001b[0m\u001b[0m\n\u001b[1;32m     82\u001b[0m     \u001b[0mx\u001b[0m \u001b[0;34m=\u001b[0m \u001b[0mprice_history\u001b[0m\u001b[0;34m[\u001b[0m\u001b[0;34m\"round\"\u001b[0m\u001b[0;34m]\u001b[0m\u001b[0;34m\u001b[0m\u001b[0;34m\u001b[0m\u001b[0m\n\u001b[0;32m---> 83\u001b[0;31m     \u001b[0mplt\u001b[0m\u001b[0;34m.\u001b[0m\u001b[0mplot\u001b[0m\u001b[0;34m(\u001b[0m\u001b[0mx\u001b[0m\u001b[0;34m,\u001b[0m \u001b[0mprice_history\u001b[0m\u001b[0;34m[\u001b[0m\u001b[0;34m\"Alice estimate\"\u001b[0m\u001b[0;34m]\u001b[0m\u001b[0;34m,\u001b[0m \u001b[0mlabel\u001b[0m\u001b[0;34m=\u001b[0m\u001b[0;34m\"Alice estimate\"\u001b[0m\u001b[0;34m,\u001b[0m \u001b[0mmarker\u001b[0m\u001b[0;34m=\u001b[0m\u001b[0;34m\"o\"\u001b[0m\u001b[0;34m,\u001b[0m \u001b[0mcolor\u001b[0m\u001b[0;34m=\u001b[0m\u001b[0mpa\u001b[0m\u001b[0;34m.\u001b[0m\u001b[0mstyle\u001b[0m\u001b[0;34m[\u001b[0m\u001b[0;34m\"color\"\u001b[0m\u001b[0;34m]\u001b[0m\u001b[0;34m)\u001b[0m\u001b[0;34m\u001b[0m\u001b[0;34m\u001b[0m\u001b[0m\n\u001b[0m\u001b[1;32m     84\u001b[0m     \u001b[0mplt\u001b[0m\u001b[0;34m.\u001b[0m\u001b[0mplot\u001b[0m\u001b[0;34m(\u001b[0m\u001b[0mx\u001b[0m\u001b[0;34m,\u001b[0m \u001b[0mprice_history\u001b[0m\u001b[0;34m[\u001b[0m\u001b[0;34m\"Bob estimate\"\u001b[0m\u001b[0;34m]\u001b[0m\u001b[0;34m,\u001b[0m \u001b[0mlabel\u001b[0m\u001b[0;34m=\u001b[0m\u001b[0;34m\"Bob estimate\"\u001b[0m\u001b[0;34m,\u001b[0m \u001b[0mmarker\u001b[0m\u001b[0;34m=\u001b[0m\u001b[0;34m\"o\"\u001b[0m\u001b[0;34m,\u001b[0m \u001b[0mcolor\u001b[0m\u001b[0;34m=\u001b[0m\u001b[0mpb\u001b[0m\u001b[0;34m.\u001b[0m\u001b[0mstyle\u001b[0m\u001b[0;34m[\u001b[0m\u001b[0;34m\"color\"\u001b[0m\u001b[0;34m]\u001b[0m\u001b[0;34m)\u001b[0m\u001b[0;34m\u001b[0m\u001b[0;34m\u001b[0m\u001b[0m\n\u001b[1;32m     85\u001b[0m     \u001b[0mplt\u001b[0m\u001b[0;34m.\u001b[0m\u001b[0mplot\u001b[0m\u001b[0;34m(\u001b[0m\u001b[0mx\u001b[0m \u001b[0;34m+\u001b[0m \u001b[0;36m0.1\u001b[0m\u001b[0;34m,\u001b[0m \u001b[0mprice_history\u001b[0m\u001b[0;34m[\u001b[0m\u001b[0;34m\"Alice accept price\"\u001b[0m\u001b[0;34m]\u001b[0m\u001b[0;34m,\u001b[0m \u001b[0mlabel\u001b[0m\u001b[0;34m=\u001b[0m\u001b[0;34m\"Alice accept price\"\u001b[0m\u001b[0;34m,\u001b[0m \u001b[0mmarker\u001b[0m\u001b[0;34m=\u001b[0m\u001b[0;34m\"*\"\u001b[0m\u001b[0;34m,\u001b[0m \u001b[0mcolor\u001b[0m\u001b[0;34m=\u001b[0m\u001b[0mpa\u001b[0m\u001b[0;34m.\u001b[0m\u001b[0mstyle\u001b[0m\u001b[0;34m[\u001b[0m\u001b[0;34m\"color\"\u001b[0m\u001b[0;34m]\u001b[0m\u001b[0;34m)\u001b[0m\u001b[0;34m\u001b[0m\u001b[0;34m\u001b[0m\u001b[0m\n",
            "\u001b[0;32m/usr/local/lib/python3.10/dist-packages/pandas/core/frame.py\u001b[0m in \u001b[0;36m__getitem__\u001b[0;34m(self, key)\u001b[0m\n\u001b[1;32m   3805\u001b[0m             \u001b[0;32mif\u001b[0m \u001b[0mself\u001b[0m\u001b[0;34m.\u001b[0m\u001b[0mcolumns\u001b[0m\u001b[0;34m.\u001b[0m\u001b[0mnlevels\u001b[0m \u001b[0;34m>\u001b[0m \u001b[0;36m1\u001b[0m\u001b[0;34m:\u001b[0m\u001b[0;34m\u001b[0m\u001b[0;34m\u001b[0m\u001b[0m\n\u001b[1;32m   3806\u001b[0m                 \u001b[0;32mreturn\u001b[0m \u001b[0mself\u001b[0m\u001b[0;34m.\u001b[0m\u001b[0m_getitem_multilevel\u001b[0m\u001b[0;34m(\u001b[0m\u001b[0mkey\u001b[0m\u001b[0;34m)\u001b[0m\u001b[0;34m\u001b[0m\u001b[0;34m\u001b[0m\u001b[0m\n\u001b[0;32m-> 3807\u001b[0;31m             \u001b[0mindexer\u001b[0m \u001b[0;34m=\u001b[0m \u001b[0mself\u001b[0m\u001b[0;34m.\u001b[0m\u001b[0mcolumns\u001b[0m\u001b[0;34m.\u001b[0m\u001b[0mget_loc\u001b[0m\u001b[0;34m(\u001b[0m\u001b[0mkey\u001b[0m\u001b[0;34m)\u001b[0m\u001b[0;34m\u001b[0m\u001b[0;34m\u001b[0m\u001b[0m\n\u001b[0m\u001b[1;32m   3808\u001b[0m             \u001b[0;32mif\u001b[0m \u001b[0mis_integer\u001b[0m\u001b[0;34m(\u001b[0m\u001b[0mindexer\u001b[0m\u001b[0;34m)\u001b[0m\u001b[0;34m:\u001b[0m\u001b[0;34m\u001b[0m\u001b[0;34m\u001b[0m\u001b[0m\n\u001b[1;32m   3809\u001b[0m                 \u001b[0mindexer\u001b[0m \u001b[0;34m=\u001b[0m \u001b[0;34m[\u001b[0m\u001b[0mindexer\u001b[0m\u001b[0;34m]\u001b[0m\u001b[0;34m\u001b[0m\u001b[0;34m\u001b[0m\u001b[0m\n",
            "\u001b[0;32m/usr/local/lib/python3.10/dist-packages/pandas/core/indexes/base.py\u001b[0m in \u001b[0;36mget_loc\u001b[0;34m(self, key, method, tolerance)\u001b[0m\n\u001b[1;32m   3802\u001b[0m                 \u001b[0;32mreturn\u001b[0m \u001b[0mself\u001b[0m\u001b[0;34m.\u001b[0m\u001b[0m_engine\u001b[0m\u001b[0;34m.\u001b[0m\u001b[0mget_loc\u001b[0m\u001b[0;34m(\u001b[0m\u001b[0mcasted_key\u001b[0m\u001b[0;34m)\u001b[0m\u001b[0;34m\u001b[0m\u001b[0;34m\u001b[0m\u001b[0m\n\u001b[1;32m   3803\u001b[0m             \u001b[0;32mexcept\u001b[0m \u001b[0mKeyError\u001b[0m \u001b[0;32mas\u001b[0m \u001b[0merr\u001b[0m\u001b[0;34m:\u001b[0m\u001b[0;34m\u001b[0m\u001b[0;34m\u001b[0m\u001b[0m\n\u001b[0;32m-> 3804\u001b[0;31m                 \u001b[0;32mraise\u001b[0m \u001b[0mKeyError\u001b[0m\u001b[0;34m(\u001b[0m\u001b[0mkey\u001b[0m\u001b[0;34m)\u001b[0m \u001b[0;32mfrom\u001b[0m \u001b[0merr\u001b[0m\u001b[0;34m\u001b[0m\u001b[0;34m\u001b[0m\u001b[0m\n\u001b[0m\u001b[1;32m   3805\u001b[0m             \u001b[0;32mexcept\u001b[0m \u001b[0mTypeError\u001b[0m\u001b[0;34m:\u001b[0m\u001b[0;34m\u001b[0m\u001b[0;34m\u001b[0m\u001b[0m\n\u001b[1;32m   3806\u001b[0m                 \u001b[0;31m# If we have a listlike key, _check_indexing_error will raise\u001b[0m\u001b[0;34m\u001b[0m\u001b[0;34m\u001b[0m\u001b[0m\n",
            "\u001b[0;31mKeyError\u001b[0m: 'Alice estimate'"
          ]
        },
        {
          "output_type": "display_data",
          "data": {
            "text/plain": [
              "<Figure size 500x300 with 0 Axes>"
            ]
          },
          "metadata": {}
        }
      ]
    },
    {
      "cell_type": "code",
      "source": [],
      "metadata": {
        "id": "W4CL5uc64Vi6"
      },
      "execution_count": null,
      "outputs": []
    }
  ]
}